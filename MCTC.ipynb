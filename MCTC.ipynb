{
  "nbformat": 4,
  "nbformat_minor": 0,
  "metadata": {
    "colab": {
      "name": "Morningstar.ipynb",
      "provenance": [],
      "collapsed_sections": []
    },
    "kernelspec": {
      "name": "python3",
      "display_name": "Python 3"
    },
    "accelerator": "GPU"
  },
  "cells": [
    {
      "cell_type": "markdown",
      "metadata": {
        "id": "i-NVkz_6d4tI",
        "colab_type": "text"
      },
      "source": [
        "## **Multi-Class Text Classification**"
      ]
    },
    {
      "cell_type": "markdown",
      "metadata": {
        "id": "_6gQQdb3d9no",
        "colab_type": "text"
      },
      "source": [
        "By Twisha Choudhary"
      ]
    },
    {
      "cell_type": "markdown",
      "metadata": {
        "id": "GjKj8CsOsxXW",
        "colab_type": "text"
      },
      "source": [
        "**Import libraries**"
      ]
    },
    {
      "cell_type": "code",
      "metadata": {
        "id": "33AO78AmtiJF",
        "colab_type": "code",
        "colab": {
          "base_uri": "https://localhost:8080/",
          "height": 297
        },
        "outputId": "7b6b648f-78f2-473c-ef87-a2b21de70964"
      },
      "source": [
        "pip install -U keras-tuner"
      ],
      "execution_count": 42,
      "outputs": [
        {
          "output_type": "stream",
          "text": [
            "Requirement already up-to-date: keras-tuner in /usr/local/lib/python3.6/dist-packages (1.0.1)\n",
            "Requirement already satisfied, skipping upgrade: tabulate in /usr/local/lib/python3.6/dist-packages (from keras-tuner) (0.8.7)\n",
            "Requirement already satisfied, skipping upgrade: colorama in /usr/local/lib/python3.6/dist-packages (from keras-tuner) (0.4.3)\n",
            "Requirement already satisfied, skipping upgrade: requests in /usr/local/lib/python3.6/dist-packages (from keras-tuner) (2.23.0)\n",
            "Requirement already satisfied, skipping upgrade: scipy in /usr/local/lib/python3.6/dist-packages (from keras-tuner) (1.4.1)\n",
            "Requirement already satisfied, skipping upgrade: future in /usr/local/lib/python3.6/dist-packages (from keras-tuner) (0.16.0)\n",
            "Requirement already satisfied, skipping upgrade: numpy in /usr/local/lib/python3.6/dist-packages (from keras-tuner) (1.18.5)\n",
            "Requirement already satisfied, skipping upgrade: terminaltables in /usr/local/lib/python3.6/dist-packages (from keras-tuner) (3.1.0)\n",
            "Requirement already satisfied, skipping upgrade: scikit-learn in /usr/local/lib/python3.6/dist-packages (from keras-tuner) (0.22.2.post1)\n",
            "Requirement already satisfied, skipping upgrade: tqdm in /usr/local/lib/python3.6/dist-packages (from keras-tuner) (4.41.1)\n",
            "Requirement already satisfied, skipping upgrade: urllib3!=1.25.0,!=1.25.1,<1.26,>=1.21.1 in /usr/local/lib/python3.6/dist-packages (from requests->keras-tuner) (1.24.3)\n",
            "Requirement already satisfied, skipping upgrade: certifi>=2017.4.17 in /usr/local/lib/python3.6/dist-packages (from requests->keras-tuner) (2020.6.20)\n",
            "Requirement already satisfied, skipping upgrade: idna<3,>=2.5 in /usr/local/lib/python3.6/dist-packages (from requests->keras-tuner) (2.10)\n",
            "Requirement already satisfied, skipping upgrade: chardet<4,>=3.0.2 in /usr/local/lib/python3.6/dist-packages (from requests->keras-tuner) (3.0.4)\n",
            "Requirement already satisfied, skipping upgrade: joblib>=0.11 in /usr/local/lib/python3.6/dist-packages (from scikit-learn->keras-tuner) (0.16.0)\n"
          ],
          "name": "stdout"
        }
      ]
    },
    {
      "cell_type": "code",
      "metadata": {
        "id": "UJYY2EK-M6Qw",
        "colab_type": "code",
        "colab": {}
      },
      "source": [
        "import pandas as pd\n",
        "import numpy as np\n",
        "import re\n",
        "import keras\n",
        "import tensorflow\n",
        "import pickle\n",
        "from keras.preprocessing.text import Tokenizer\n",
        "from tensorflow.keras.models import Sequential\n",
        "from tensorflow.keras.layers import Dense\n",
        "from tensorflow.keras.layers import LSTM\n",
        "from tensorflow.keras.layers import Embedding\n",
        "from tensorflow.keras.layers import SpatialDropout1D\n",
        "from tensorflow.keras.callbacks import EarlyStopping\n",
        "from tensorflow.keras.preprocessing.sequence import pad_sequences\n",
        "from tensorflow.keras.models import load_model\n",
        "from sklearn.metrics import confusion_matrix, accuracy_score\n",
        "from sklearn.metrics import classification_report\n",
        "import seaborn as sns \n",
        "import matplotlib.pyplot as plt \n",
        "%matplotlib inline\n",
        "#!pip install -q -U keras-tuner\n",
        "import kerastuner as kt\n",
        "from kerastuner import RandomSearch"
      ],
      "execution_count": 43,
      "outputs": []
    },
    {
      "cell_type": "markdown",
      "metadata": {
        "id": "XFsfagBDs25R",
        "colab_type": "text"
      },
      "source": [
        "**Read the dataset**"
      ]
    },
    {
      "cell_type": "code",
      "metadata": {
        "id": "3oWt0KSeMu0O",
        "colab_type": "code",
        "colab": {}
      },
      "source": [
        "df = pd.read_csv('/content/drive/My Drive/data.csv')"
      ],
      "execution_count": 2,
      "outputs": []
    },
    {
      "cell_type": "code",
      "metadata": {
        "id": "p7y3_e-kMzU_",
        "colab_type": "code",
        "colab": {}
      },
      "source": [
        "df = df[[\"Text\",'Class']]"
      ],
      "execution_count": 3,
      "outputs": []
    },
    {
      "cell_type": "markdown",
      "metadata": {
        "id": "qtyLaZGVdBq1",
        "colab_type": "text"
      },
      "source": [
        "**Data analysis**"
      ]
    },
    {
      "cell_type": "code",
      "metadata": {
        "id": "N_EJ4sClM6Tt",
        "colab_type": "code",
        "colab": {
          "base_uri": "https://localhost:8080/",
          "height": 202
        },
        "outputId": "42b38a3f-dd24-4dbc-adc1-34a36481924f"
      },
      "source": [
        "df.head(5)"
      ],
      "execution_count": 4,
      "outputs": [
        {
          "output_type": "execute_result",
          "data": {
            "text/html": [
              "<div>\n",
              "<style scoped>\n",
              "    .dataframe tbody tr th:only-of-type {\n",
              "        vertical-align: middle;\n",
              "    }\n",
              "\n",
              "    .dataframe tbody tr th {\n",
              "        vertical-align: top;\n",
              "    }\n",
              "\n",
              "    .dataframe thead th {\n",
              "        text-align: right;\n",
              "    }\n",
              "</style>\n",
              "<table border=\"1\" class=\"dataframe\">\n",
              "  <thead>\n",
              "    <tr style=\"text-align: right;\">\n",
              "      <th></th>\n",
              "      <th>Text</th>\n",
              "      <th>Class</th>\n",
              "    </tr>\n",
              "  </thead>\n",
              "  <tbody>\n",
              "    <tr>\n",
              "      <th>0</th>\n",
              "      <td>I have outdated information on my credit repor...</td>\n",
              "      <td>C</td>\n",
              "    </tr>\n",
              "    <tr>\n",
              "      <th>1</th>\n",
              "      <td>An account on my credit report has a mistaken ...</td>\n",
              "      <td>C</td>\n",
              "    </tr>\n",
              "    <tr>\n",
              "      <th>2</th>\n",
              "      <td>This company refuses to provide me verificatio...</td>\n",
              "      <td>A</td>\n",
              "    </tr>\n",
              "    <tr>\n",
              "      <th>3</th>\n",
              "      <td>This complaint is in regards to Square Two Fin...</td>\n",
              "      <td>A</td>\n",
              "    </tr>\n",
              "    <tr>\n",
              "      <th>4</th>\n",
              "      <td>Started the refinance of home mortgage process...</td>\n",
              "      <td>B</td>\n",
              "    </tr>\n",
              "  </tbody>\n",
              "</table>\n",
              "</div>"
            ],
            "text/plain": [
              "                                                Text Class\n",
              "0  I have outdated information on my credit repor...     C\n",
              "1  An account on my credit report has a mistaken ...     C\n",
              "2  This company refuses to provide me verificatio...     A\n",
              "3  This complaint is in regards to Square Two Fin...     A\n",
              "4  Started the refinance of home mortgage process...     B"
            ]
          },
          "metadata": {
            "tags": []
          },
          "execution_count": 4
        }
      ]
    },
    {
      "cell_type": "code",
      "metadata": {
        "id": "pdBE6YuncCeC",
        "colab_type": "code",
        "colab": {
          "base_uri": "https://localhost:8080/",
          "height": 202
        },
        "outputId": "dea6067a-17d0-4c5a-e283-d45c87159bac"
      },
      "source": [
        "df.tail(5)"
      ],
      "execution_count": 5,
      "outputs": [
        {
          "output_type": "execute_result",
          "data": {
            "text/html": [
              "<div>\n",
              "<style scoped>\n",
              "    .dataframe tbody tr th:only-of-type {\n",
              "        vertical-align: middle;\n",
              "    }\n",
              "\n",
              "    .dataframe tbody tr th {\n",
              "        vertical-align: top;\n",
              "    }\n",
              "\n",
              "    .dataframe thead th {\n",
              "        text-align: right;\n",
              "    }\n",
              "</style>\n",
              "<table border=\"1\" class=\"dataframe\">\n",
              "  <thead>\n",
              "    <tr style=\"text-align: right;\">\n",
              "      <th></th>\n",
              "      <th>Text</th>\n",
              "      <th>Class</th>\n",
              "    </tr>\n",
              "  </thead>\n",
              "  <tbody>\n",
              "    <tr>\n",
              "      <th>128951</th>\n",
              "      <td>Barclay closed my Barclay XXXX MasterCard acco...</td>\n",
              "      <td>D</td>\n",
              "    </tr>\n",
              "    <tr>\n",
              "      <th>128952</th>\n",
              "      <td>Our son was taken to XXXX XXXX XXXX XXXX XXXX ...</td>\n",
              "      <td>A</td>\n",
              "    </tr>\n",
              "    <tr>\n",
              "      <th>128953</th>\n",
              "      <td>I had an account with XXXX in XX/XX/XXXX this ...</td>\n",
              "      <td>A</td>\n",
              "    </tr>\n",
              "    <tr>\n",
              "      <th>128954</th>\n",
              "      <td>I was contacted on XX/XX/XXXX email by XXXX fr...</td>\n",
              "      <td>B</td>\n",
              "    </tr>\n",
              "    <tr>\n",
              "      <th>128955</th>\n",
              "      <td>I had a debit that was included in my chapter ...</td>\n",
              "      <td>A</td>\n",
              "    </tr>\n",
              "  </tbody>\n",
              "</table>\n",
              "</div>"
            ],
            "text/plain": [
              "                                                     Text Class\n",
              "128951  Barclay closed my Barclay XXXX MasterCard acco...     D\n",
              "128952  Our son was taken to XXXX XXXX XXXX XXXX XXXX ...     A\n",
              "128953  I had an account with XXXX in XX/XX/XXXX this ...     A\n",
              "128954  I was contacted on XX/XX/XXXX email by XXXX fr...     B\n",
              "128955  I had a debit that was included in my chapter ...     A"
            ]
          },
          "metadata": {
            "tags": []
          },
          "execution_count": 5
        }
      ]
    },
    {
      "cell_type": "code",
      "metadata": {
        "id": "nkQ2GI7QcI6J",
        "colab_type": "code",
        "colab": {
          "base_uri": "https://localhost:8080/",
          "height": 69
        },
        "outputId": "071c7a38-6d5f-4a62-ec34-cab202569997"
      },
      "source": [
        "df.dtypes"
      ],
      "execution_count": 6,
      "outputs": [
        {
          "output_type": "execute_result",
          "data": {
            "text/plain": [
              "Text     object\n",
              "Class    object\n",
              "dtype: object"
            ]
          },
          "metadata": {
            "tags": []
          },
          "execution_count": 6
        }
      ]
    },
    {
      "cell_type": "code",
      "metadata": {
        "id": "7NvK8q-QM9Uf",
        "colab_type": "code",
        "colab": {
          "base_uri": "https://localhost:8080/",
          "height": 35
        },
        "outputId": "8baf1d4d-a391-4612-9d77-a355074eef00"
      },
      "source": [
        "print(df.columns.values)"
      ],
      "execution_count": 7,
      "outputs": [
        {
          "output_type": "stream",
          "text": [
            "['Text' 'Class']\n"
          ],
          "name": "stdout"
        }
      ]
    },
    {
      "cell_type": "code",
      "metadata": {
        "id": "prBAIy5RcPf2",
        "colab_type": "code",
        "colab": {
          "base_uri": "https://localhost:8080/",
          "height": 35
        },
        "outputId": "6b7739d3-3380-443d-eb2c-ffaaebcf55b4"
      },
      "source": [
        "df.shape"
      ],
      "execution_count": 8,
      "outputs": [
        {
          "output_type": "execute_result",
          "data": {
            "text/plain": [
              "(128956, 2)"
            ]
          },
          "metadata": {
            "tags": []
          },
          "execution_count": 8
        }
      ]
    },
    {
      "cell_type": "code",
      "metadata": {
        "id": "2nupy1rXNHA4",
        "colab_type": "code",
        "colab": {
          "base_uri": "https://localhost:8080/",
          "height": 415
        },
        "outputId": "ea09912a-d645-401a-ce2b-9263c082976b"
      },
      "source": [
        "df"
      ],
      "execution_count": 9,
      "outputs": [
        {
          "output_type": "execute_result",
          "data": {
            "text/html": [
              "<div>\n",
              "<style scoped>\n",
              "    .dataframe tbody tr th:only-of-type {\n",
              "        vertical-align: middle;\n",
              "    }\n",
              "\n",
              "    .dataframe tbody tr th {\n",
              "        vertical-align: top;\n",
              "    }\n",
              "\n",
              "    .dataframe thead th {\n",
              "        text-align: right;\n",
              "    }\n",
              "</style>\n",
              "<table border=\"1\" class=\"dataframe\">\n",
              "  <thead>\n",
              "    <tr style=\"text-align: right;\">\n",
              "      <th></th>\n",
              "      <th>Text</th>\n",
              "      <th>Class</th>\n",
              "    </tr>\n",
              "  </thead>\n",
              "  <tbody>\n",
              "    <tr>\n",
              "      <th>0</th>\n",
              "      <td>I have outdated information on my credit repor...</td>\n",
              "      <td>C</td>\n",
              "    </tr>\n",
              "    <tr>\n",
              "      <th>1</th>\n",
              "      <td>An account on my credit report has a mistaken ...</td>\n",
              "      <td>C</td>\n",
              "    </tr>\n",
              "    <tr>\n",
              "      <th>2</th>\n",
              "      <td>This company refuses to provide me verificatio...</td>\n",
              "      <td>A</td>\n",
              "    </tr>\n",
              "    <tr>\n",
              "      <th>3</th>\n",
              "      <td>This complaint is in regards to Square Two Fin...</td>\n",
              "      <td>A</td>\n",
              "    </tr>\n",
              "    <tr>\n",
              "      <th>4</th>\n",
              "      <td>Started the refinance of home mortgage process...</td>\n",
              "      <td>B</td>\n",
              "    </tr>\n",
              "    <tr>\n",
              "      <th>...</th>\n",
              "      <td>...</td>\n",
              "      <td>...</td>\n",
              "    </tr>\n",
              "    <tr>\n",
              "      <th>128951</th>\n",
              "      <td>Barclay closed my Barclay XXXX MasterCard acco...</td>\n",
              "      <td>D</td>\n",
              "    </tr>\n",
              "    <tr>\n",
              "      <th>128952</th>\n",
              "      <td>Our son was taken to XXXX XXXX XXXX XXXX XXXX ...</td>\n",
              "      <td>A</td>\n",
              "    </tr>\n",
              "    <tr>\n",
              "      <th>128953</th>\n",
              "      <td>I had an account with XXXX in XX/XX/XXXX this ...</td>\n",
              "      <td>A</td>\n",
              "    </tr>\n",
              "    <tr>\n",
              "      <th>128954</th>\n",
              "      <td>I was contacted on XX/XX/XXXX email by XXXX fr...</td>\n",
              "      <td>B</td>\n",
              "    </tr>\n",
              "    <tr>\n",
              "      <th>128955</th>\n",
              "      <td>I had a debit that was included in my chapter ...</td>\n",
              "      <td>A</td>\n",
              "    </tr>\n",
              "  </tbody>\n",
              "</table>\n",
              "<p>128956 rows × 2 columns</p>\n",
              "</div>"
            ],
            "text/plain": [
              "                                                     Text Class\n",
              "0       I have outdated information on my credit repor...     C\n",
              "1       An account on my credit report has a mistaken ...     C\n",
              "2       This company refuses to provide me verificatio...     A\n",
              "3       This complaint is in regards to Square Two Fin...     A\n",
              "4       Started the refinance of home mortgage process...     B\n",
              "...                                                   ...   ...\n",
              "128951  Barclay closed my Barclay XXXX MasterCard acco...     D\n",
              "128952  Our son was taken to XXXX XXXX XXXX XXXX XXXX ...     A\n",
              "128953  I had an account with XXXX in XX/XX/XXXX this ...     A\n",
              "128954  I was contacted on XX/XX/XXXX email by XXXX fr...     B\n",
              "128955  I had a debit that was included in my chapter ...     A\n",
              "\n",
              "[128956 rows x 2 columns]"
            ]
          },
          "metadata": {
            "tags": []
          },
          "execution_count": 9
        }
      ]
    },
    {
      "cell_type": "code",
      "metadata": {
        "id": "aEp92VM_cV6V",
        "colab_type": "code",
        "colab": {
          "base_uri": "https://localhost:8080/",
          "height": 69
        },
        "outputId": "0b543198-4a9a-46ec-b4f4-89c72d50fd5a"
      },
      "source": [
        "print(df.isnull().sum())"
      ],
      "execution_count": 10,
      "outputs": [
        {
          "output_type": "stream",
          "text": [
            "Text     0\n",
            "Class    0\n",
            "dtype: int64\n"
          ],
          "name": "stdout"
        }
      ]
    },
    {
      "cell_type": "code",
      "metadata": {
        "id": "cLClCErAs70G",
        "colab_type": "code",
        "colab": {
          "base_uri": "https://localhost:8080/",
          "height": 233
        },
        "outputId": "2b569d68-5d5b-45a2-e27d-a3116e951d1e"
      },
      "source": [
        "df.groupby('Class').describe()"
      ],
      "execution_count": 11,
      "outputs": [
        {
          "output_type": "execute_result",
          "data": {
            "text/html": [
              "<div>\n",
              "<style scoped>\n",
              "    .dataframe tbody tr th:only-of-type {\n",
              "        vertical-align: middle;\n",
              "    }\n",
              "\n",
              "    .dataframe tbody tr th {\n",
              "        vertical-align: top;\n",
              "    }\n",
              "\n",
              "    .dataframe thead tr th {\n",
              "        text-align: left;\n",
              "    }\n",
              "\n",
              "    .dataframe thead tr:last-of-type th {\n",
              "        text-align: right;\n",
              "    }\n",
              "</style>\n",
              "<table border=\"1\" class=\"dataframe\">\n",
              "  <thead>\n",
              "    <tr>\n",
              "      <th></th>\n",
              "      <th colspan=\"4\" halign=\"left\">Text</th>\n",
              "    </tr>\n",
              "    <tr>\n",
              "      <th></th>\n",
              "      <th>count</th>\n",
              "      <th>unique</th>\n",
              "      <th>top</th>\n",
              "      <th>freq</th>\n",
              "    </tr>\n",
              "    <tr>\n",
              "      <th>Class</th>\n",
              "      <th></th>\n",
              "      <th></th>\n",
              "      <th></th>\n",
              "      <th></th>\n",
              "    </tr>\n",
              "  </thead>\n",
              "  <tbody>\n",
              "    <tr>\n",
              "      <th>A</th>\n",
              "      <td>43946</td>\n",
              "      <td>42814</td>\n",
              "      <td>This company continues to report on my credit ...</td>\n",
              "      <td>49</td>\n",
              "    </tr>\n",
              "    <tr>\n",
              "      <th>B</th>\n",
              "      <td>34576</td>\n",
              "      <td>34550</td>\n",
              "      <td>By failing to adhere to both California law an...</td>\n",
              "      <td>5</td>\n",
              "    </tr>\n",
              "    <tr>\n",
              "      <th>C</th>\n",
              "      <td>31589</td>\n",
              "      <td>29828</td>\n",
              "      <td>I am filing this complaint because Experian ha...</td>\n",
              "      <td>103</td>\n",
              "    </tr>\n",
              "    <tr>\n",
              "      <th>D</th>\n",
              "      <td>18845</td>\n",
              "      <td>18764</td>\n",
              "      <td>I was shocked when I reviewed my credit report...</td>\n",
              "      <td>6</td>\n",
              "    </tr>\n",
              "  </tbody>\n",
              "</table>\n",
              "</div>"
            ],
            "text/plain": [
              "        Text                                                               \n",
              "       count unique                                                top freq\n",
              "Class                                                                      \n",
              "A      43946  42814  This company continues to report on my credit ...   49\n",
              "B      34576  34550  By failing to adhere to both California law an...    5\n",
              "C      31589  29828  I am filing this complaint because Experian ha...  103\n",
              "D      18845  18764  I was shocked when I reviewed my credit report...    6"
            ]
          },
          "metadata": {
            "tags": []
          },
          "execution_count": 11
        }
      ]
    },
    {
      "cell_type": "code",
      "metadata": {
        "id": "LPIRC6QSc1X5",
        "colab_type": "code",
        "colab": {
          "base_uri": "https://localhost:8080/",
          "height": 297
        },
        "outputId": "d8955c16-843e-4409-9784-098fa9cce839"
      },
      "source": [
        "sns.countplot(data=df, x='Class')"
      ],
      "execution_count": 12,
      "outputs": [
        {
          "output_type": "execute_result",
          "data": {
            "text/plain": [
              "<matplotlib.axes._subplots.AxesSubplot at 0x7f910d1d95c0>"
            ]
          },
          "metadata": {
            "tags": []
          },
          "execution_count": 12
        },
        {
          "output_type": "display_data",
          "data": {
            "image/png": "[encoded data removed]",
            "text/plain": [
              "<Figure size 432x288 with 1 Axes>"
            ]
          },
          "metadata": {
            "tags": [],
            "needs_background": "light"
          }
        }
      ]
    },
    {
      "cell_type": "markdown",
      "metadata": {
        "id": "B1lQuuxesbj0",
        "colab_type": "text"
      },
      "source": [
        "**Create lists for the different classes**"
      ]
    },
    {
      "cell_type": "markdown",
      "metadata": {
        "id": "TW2wbiypz_nH",
        "colab_type": "text"
      },
      "source": [
        "Here, we are creating different lists for different classes A, B, C and D of our dataset"
      ]
    },
    {
      "cell_type": "code",
      "metadata": {
        "id": "qeJw2T8nNJWn",
        "colab_type": "code",
        "colab": {}
      },
      "source": [
        "A=[]\n",
        "for i in range(0,128956):\n",
        "    if df[\"Class\"][i] == \"A\":\n",
        "        #(df[\"Class\"][i])C\n",
        "        A.append(df[\"Text\"][i])\n",
        "\n",
        "B=[]\n",
        "for i in range(0,128956):    \n",
        "    if df[\"Class\"][i] == \"B\":\n",
        "        #(df[\"Class\"][i])\n",
        "        B.append(df[\"Text\"][i])\n",
        "\n",
        "C=[]\n",
        "for i in range(0,128956):    \n",
        "    if df[\"Class\"][i] == \"C\":\n",
        "        #(df[\"Class\"][i])\n",
        "        C.append(df[\"Text\"][i])\n",
        "\n",
        "D=[]\n",
        "for i in range(0,128956):    \n",
        "    if df[\"Class\"][i] == \"D\":\n",
        "        #(df[\"Class\"][i])\n",
        "        D.append(df[\"Text\"][i])"
      ],
      "execution_count": 13,
      "outputs": []
    },
    {
      "cell_type": "code",
      "metadata": {
        "id": "XZBjb7NpNVIB",
        "colab_type": "code",
        "colab": {
          "base_uri": "https://localhost:8080/",
          "height": 35
        },
        "outputId": "422f7829-19e8-467a-a5ac-93de8ea3f9dc"
      },
      "source": [
        "type(A)"
      ],
      "execution_count": 14,
      "outputs": [
        {
          "output_type": "execute_result",
          "data": {
            "text/plain": [
              "list"
            ]
          },
          "metadata": {
            "tags": []
          },
          "execution_count": 14
        }
      ]
    },
    {
      "cell_type": "markdown",
      "metadata": {
        "id": "H-drYaN8sqyT",
        "colab_type": "text"
      },
      "source": [
        "**Get the training data**"
      ]
    },
    {
      "cell_type": "code",
      "metadata": {
        "id": "A-_GrYF0Np2m",
        "colab_type": "code",
        "colab": {}
      },
      "source": [
        "Wtrain_passages = []\n",
        "train_labels = []\n",
        "\n",
        "for i in range(8000):\n",
        "    train_passages.append(A[i])\n",
        "    train_labels.append('A')\n",
        "\n",
        "for i in range(8000):\n",
        "    train_passages.append(B[i])\n",
        "    train_labels.append('B')\n",
        "\n",
        "for i in range(8000):\n",
        "    train_passages.append(C[i])\n",
        "    train_labels.append('C')\n",
        "\n",
        "for i in range(8000):\n",
        "    train_passages.append(D[i])\n",
        "    train_labels.append('D')"
      ],
      "execution_count": 15,
      "outputs": []
    },
    {
      "cell_type": "code",
      "metadata": {
        "id": "QB-bllw3NxMQ",
        "colab_type": "code",
        "colab": {}
      },
      "source": [
        "df = pd.DataFrame(list(zip(train_passages, train_labels)), columns =[\"Text\",'Class']) \n",
        "df = df.sample(frac = 1) #Shuffle the data\n",
        "\n",
        "df.to_csv(\"train.csv\")"
      ],
      "execution_count": 16,
      "outputs": []
    },
    {
      "cell_type": "code",
      "metadata": {
        "id": "q80NxBYuN16R",
        "colab_type": "code",
        "colab": {}
      },
      "source": [
        "dfTrain = pd.read_csv('/content/train.csv')"
      ],
      "execution_count": 17,
      "outputs": []
    },
    {
      "cell_type": "code",
      "metadata": {
        "id": "9_Dtt886ODts",
        "colab_type": "code",
        "colab": {
          "base_uri": "https://localhost:8080/",
          "height": 415
        },
        "outputId": "043705c1-c82d-4f0d-e066-90d0dcc52e6e"
      },
      "source": [
        "dfTrain"
      ],
      "execution_count": 18,
      "outputs": [
        {
          "output_type": "execute_result",
          "data": {
            "text/html": [
              "<div>\n",
              "<style scoped>\n",
              "    .dataframe tbody tr th:only-of-type {\n",
              "        vertical-align: middle;\n",
              "    }\n",
              "\n",
              "    .dataframe tbody tr th {\n",
              "        vertical-align: top;\n",
              "    }\n",
              "\n",
              "    .dataframe thead th {\n",
              "        text-align: right;\n",
              "    }\n",
              "</style>\n",
              "<table border=\"1\" class=\"dataframe\">\n",
              "  <thead>\n",
              "    <tr style=\"text-align: right;\">\n",
              "      <th></th>\n",
              "      <th>Unnamed: 0</th>\n",
              "      <th>Text</th>\n",
              "      <th>Class</th>\n",
              "    </tr>\n",
              "  </thead>\n",
              "  <tbody>\n",
              "    <tr>\n",
              "      <th>0</th>\n",
              "      <td>14411</td>\n",
              "      <td>My loan was assumed by OCWEN in 2013. I have b...</td>\n",
              "      <td>B</td>\n",
              "    </tr>\n",
              "    <tr>\n",
              "      <th>1</th>\n",
              "      <td>24117</td>\n",
              "      <td>I HAVE BEEN DISPUTING XXXX XXXX BUSINESS XXXX ...</td>\n",
              "      <td>D</td>\n",
              "    </tr>\n",
              "    <tr>\n",
              "      <th>2</th>\n",
              "      <td>8203</td>\n",
              "      <td>Ditech financial was servicing my mortgage at ...</td>\n",
              "      <td>B</td>\n",
              "    </tr>\n",
              "    <tr>\n",
              "      <th>3</th>\n",
              "      <td>6623</td>\n",
              "      <td>The phone rings 2 to 3 times a day, using diff...</td>\n",
              "      <td>A</td>\n",
              "    </tr>\n",
              "    <tr>\n",
              "      <th>4</th>\n",
              "      <td>165</td>\n",
              "      <td>First, I want to state the the choices you hav...</td>\n",
              "      <td>A</td>\n",
              "    </tr>\n",
              "    <tr>\n",
              "      <th>...</th>\n",
              "      <td>...</td>\n",
              "      <td>...</td>\n",
              "      <td>...</td>\n",
              "    </tr>\n",
              "    <tr>\n",
              "      <th>31995</th>\n",
              "      <td>23159</td>\n",
              "      <td>Per Case number XXXX XXXX XXXX states that the...</td>\n",
              "      <td>C</td>\n",
              "    </tr>\n",
              "    <tr>\n",
              "      <th>31996</th>\n",
              "      <td>25835</td>\n",
              "      <td>Chevron Gas Texaco continues to use deceptive ...</td>\n",
              "      <td>D</td>\n",
              "    </tr>\n",
              "    <tr>\n",
              "      <th>31997</th>\n",
              "      <td>10729</td>\n",
              "      <td>For Over 30 months, I was enrolled in MHA prog...</td>\n",
              "      <td>B</td>\n",
              "    </tr>\n",
              "    <tr>\n",
              "      <th>31998</th>\n",
              "      <td>3256</td>\n",
              "      <td>I have paid XXXX ins. 1 month in advance since...</td>\n",
              "      <td>A</td>\n",
              "    </tr>\n",
              "    <tr>\n",
              "      <th>31999</th>\n",
              "      <td>25059</td>\n",
              "      <td>USBank has eliminated and changed the benefits...</td>\n",
              "      <td>D</td>\n",
              "    </tr>\n",
              "  </tbody>\n",
              "</table>\n",
              "<p>32000 rows × 3 columns</p>\n",
              "</div>"
            ],
            "text/plain": [
              "       Unnamed: 0                                               Text Class\n",
              "0           14411  My loan was assumed by OCWEN in 2013. I have b...     B\n",
              "1           24117  I HAVE BEEN DISPUTING XXXX XXXX BUSINESS XXXX ...     D\n",
              "2            8203  Ditech financial was servicing my mortgage at ...     B\n",
              "3            6623  The phone rings 2 to 3 times a day, using diff...     A\n",
              "4             165  First, I want to state the the choices you hav...     A\n",
              "...           ...                                                ...   ...\n",
              "31995       23159  Per Case number XXXX XXXX XXXX states that the...     C\n",
              "31996       25835  Chevron Gas Texaco continues to use deceptive ...     D\n",
              "31997       10729  For Over 30 months, I was enrolled in MHA prog...     B\n",
              "31998        3256  I have paid XXXX ins. 1 month in advance since...     A\n",
              "31999       25059  USBank has eliminated and changed the benefits...     D\n",
              "\n",
              "[32000 rows x 3 columns]"
            ]
          },
          "metadata": {
            "tags": []
          },
          "execution_count": 18
        }
      ]
    },
    {
      "cell_type": "markdown",
      "metadata": {
        "id": "nHDXG0wtuGYT",
        "colab_type": "text"
      },
      "source": [
        "**Labelize the classes**"
      ]
    },
    {
      "cell_type": "code",
      "metadata": {
        "id": "3-n3FrRCOnPm",
        "colab_type": "code",
        "colab": {}
      },
      "source": [
        "label = pd.get_dummies(dfTrain[\"Class\"],).values"
      ],
      "execution_count": 19,
      "outputs": []
    },
    {
      "cell_type": "code",
      "metadata": {
        "id": "SV8YHSLWPRfT",
        "colab_type": "code",
        "colab": {
          "base_uri": "https://localhost:8080/",
          "height": 139
        },
        "outputId": "09e7074a-d5fc-415c-a7db-3555b42496ae"
      },
      "source": [
        "label"
      ],
      "execution_count": 20,
      "outputs": [
        {
          "output_type": "execute_result",
          "data": {
            "text/plain": [
              "array([[0, 1, 0, 0],\n",
              "       [0, 0, 0, 1],\n",
              "       [0, 1, 0, 0],\n",
              "       ...,\n",
              "       [0, 1, 0, 0],\n",
              "       [1, 0, 0, 0],\n",
              "       [0, 0, 0, 1]], dtype=uint8)"
            ]
          },
          "metadata": {
            "tags": []
          },
          "execution_count": 20
        }
      ]
    },
    {
      "cell_type": "code",
      "metadata": {
        "id": "owj9v65tPTV7",
        "colab_type": "code",
        "colab": {
          "base_uri": "https://localhost:8080/",
          "height": 35
        },
        "outputId": "bfc6373f-df9b-456b-b8bf-b7074afddeb4"
      },
      "source": [
        "type(label)"
      ],
      "execution_count": 21,
      "outputs": [
        {
          "output_type": "execute_result",
          "data": {
            "text/plain": [
              "numpy.ndarray"
            ]
          },
          "metadata": {
            "tags": []
          },
          "execution_count": 21
        }
      ]
    },
    {
      "cell_type": "markdown",
      "metadata": {
        "id": "Iq2uJxJhuRs5",
        "colab_type": "text"
      },
      "source": [
        "**Clean the data**"
      ]
    },
    {
      "cell_type": "markdown",
      "metadata": {
        "id": "pqTzbvV90snn",
        "colab_type": "text"
      },
      "source": [
        "Here, we preprocess the data and clean it.\n",
        "We correct the contradictions, remove punctuations, and other symbols/texts that are not required."
      ]
    },
    {
      "cell_type": "code",
      "metadata": {
        "id": "G3cbYzZPPbWN",
        "colab_type": "code",
        "colab": {}
      },
      "source": [
        "def clean_text(x):\n",
        "\n",
        "  x = re.sub(r\"n\\'t\", \"not\",x)\n",
        "  x = re.sub(r\"\\'t\",\"not\",x)\n",
        "  x = re.sub(r\"\\'ve\",\"have\",x)\n",
        "  x = re.sub(r\"\\'m\",\"am\",x)\n",
        "  x = re.sub(r\"\\'d\",\"would\",x)\n",
        "  x = re.sub(r\"\\'ll\",\"will\",x)\n",
        "  x = re.sub(r\"\\'re\",\"are\",x)\n",
        "  x = re.sub(r\"\\'s\",\"is\",x)  \n",
        "\n",
        "  x = re.sub(r'\\s\\s+',' ',x)\n",
        "  x = re.sub(r' +', ' ', x)\n",
        "  \n",
        "  pattern = r'[^a-zA-z0-9\\s]'\n",
        "  text = re.sub(pattern, '', x)\n",
        "  text = text.replace('XXXX', '')\n",
        "  return text"
      ],
      "execution_count": 22,
      "outputs": []
    },
    {
      "cell_type": "code",
      "metadata": {
        "id": "fEvm9jRLSm04",
        "colab_type": "code",
        "colab": {}
      },
      "source": [
        "passages = dfTrain['Text'].values"
      ],
      "execution_count": 23,
      "outputs": []
    },
    {
      "cell_type": "code",
      "metadata": {
        "id": "_g0X9ZyAS2cr",
        "colab_type": "code",
        "colab": {}
      },
      "source": [
        "clean_passage = []\n",
        "for passage in passages:\n",
        "  clean_passage.append(clean_text(passage))\n",
        "#print(len(clean_passage))"
      ],
      "execution_count": 24,
      "outputs": []
    },
    {
      "cell_type": "code",
      "metadata": {
        "id": "6Uj5kfJha2ME",
        "colab_type": "code",
        "colab": {
          "base_uri": "https://localhost:8080/",
          "height": 124
        },
        "outputId": "f3cfb9a5-67a7-4885-d149-1253157e9c10"
      },
      "source": [
        "clean_passage[:5]"
      ],
      "execution_count": 25,
      "outputs": [
        {
          "output_type": "execute_result",
          "data": {
            "text/plain": [
              "['My loan was assumed by OCWEN in 2013 I have been receiving phone calls stating that I am behind on payments and charged late feesI made payments to OCWEN for my mortgage In looking at my payment history OCWEN applied some these payments directly to the principal balance This created a shortage or  suspense  for the following month I have called to have the principal payments applied as a regular payments to my account OCWEN not processing payments correctly to my account  Suspense  and  payment rev  is are not being credited properly to the account I am being charged late fees and they have reported this on my credit report',\n",
              " 'I HAVE BEEN DISPUTING   BUSINESS  ACCT ENDING IN  WITH   FRAUD DEPT  ID   PHONE   EX   ON  HE INFORMED ME THAT A BALANCE TRANSFER FROM THIS FRAUD   BUSINESS  ON  410000 WAS PAID TO AN AMERICAN EXPRESS ACCT ENDING IN  IN MY NAME I CONTACTED AMERICAN EXPRESS AND WAS INFORMED THAT AN ACCOUNT WAS NOT OPENED IN MY NAME AS THE CARDHOLDER  BUT AS AN ADDITONAL CARD I REPORTED THIS AS FRAUD I NEVER KNOWINGLY APPLIED OR ASKED TO BE ADDED AS AN ADDIONAL CARD HOLDER THIS NEW INFORMATION IS NOW UNDER INVESTIGATION',\n",
              " 'Ditech financial was servicing my mortgage at the time I sold my home on   2016 I was told that the escrow check would be mailed out on   and I needed to give 10 business days for delivery The check was never received On   I called back and requested a stoppayment on the original check and requested a new escrow check That check was never received On   I called back and requested an update I was told that there was an error in processing all escrow checks for the company and the escrow check was being mailed on   As of   I still have not received my escrow refund I was told by Ditech customer service that the check was mailed on   and I need to wait 30 days before they will issue a stop payment and send another check Customer service informed me that  escrow checks were delayed by the error in processing',\n",
              " 'The phone rings 2 to 3 times a day using different numbers on the caller ID looking for   When my mother finally spoke to some one asking for   she said no   lived here then they asked for   again my mom said there was no one by that name at this number The called said OK thank you and hung up The next day we receive a call showing ANOTHER TOLL FREE number on the caller ID looking for  or   THIS is in reference to Ally Bank No one in my family does business of any kind with Ally Bank So far I see 3 different phone numbers being used',\n",
              " 'First I want to state the the choices you have for description of issue does not really give my exact issue The issue that I have is that the collection agency never tried to contact me about a bill and instead just marked my credit report as up for collection and delinquent I found out about this collection by reviewing my credit report Syndicated Office Systems never contacted me about this bill and instead just put it in my credit records that I am up for collection and delinquent in my credit report I found out about this debt through my FICO score going down and my contacting  Upon further investigation on my part I have found that this is a fraudulent bill Syndicated Office Systems  the collection agency  should have contacted me before putting this up for collection and marking my credit as negative No effort was made on their part what so ever Through my own investigation I have found that this bill is for someone else different name in another state I now need to file police reports contact via certified mail all the credit agencies and take the time off from work to complete all these tasks Not to mention the money lost from work but also lost from certified mail postage costs etc I feel it is unethical that this collection agency never even attempted to contact me Now I need to clear up my credit because of Syndicated Office Systems not even putting a ounce of effort into notify me of any bill and giving me the opportunity to get this cleared up before it has gone this far']"
            ]
          },
          "metadata": {
            "tags": []
          },
          "execution_count": 25
        }
      ]
    },
    {
      "cell_type": "code",
      "metadata": {
        "id": "O4lvFpb1nMC_",
        "colab_type": "code",
        "colab": {
          "base_uri": "https://localhost:8080/",
          "height": 35
        },
        "outputId": "940adff3-429c-4ee6-f149-f80bd9aec4c0"
      },
      "source": [
        "#Check unique values\n",
        "clean_set = set() \n",
        "for passage in clean_passage:\n",
        "  for i in passage.split(\" \"):\n",
        "    clean_set.add(i)\n",
        "len(clean_set)"
      ],
      "execution_count": 26,
      "outputs": [
        {
          "output_type": "execute_result",
          "data": {
            "text/plain": [
              "52622"
            ]
          },
          "metadata": {
            "tags": []
          },
          "execution_count": 26
        }
      ]
    },
    {
      "cell_type": "markdown",
      "metadata": {
        "id": "3cAHSevwumS9",
        "colab_type": "text"
      },
      "source": [
        "**Tokenize the data**"
      ]
    },
    {
      "cell_type": "code",
      "metadata": {
        "id": "vrD4suInXfFC",
        "colab_type": "code",
        "colab": {}
      },
      "source": [
        "tokenizer = Tokenizer(num_words=52622)\n",
        "tokenizer.fit_on_texts(list(clean_passage))\n",
        "train_X = tokenizer.texts_to_sequences(clean_passage)"
      ],
      "execution_count": 27,
      "outputs": []
    },
    {
      "cell_type": "markdown",
      "metadata": {
        "id": "uf8UnMW9uwsm",
        "colab_type": "text"
      },
      "source": [
        "Pad sequence"
      ]
    },
    {
      "cell_type": "code",
      "metadata": {
        "id": "9mgn8fYfXpO5",
        "colab_type": "code",
        "colab": {}
      },
      "source": [
        "train_X = pad_sequences(train_X, maxlen = 2000)"
      ],
      "execution_count": 28,
      "outputs": []
    },
    {
      "cell_type": "code",
      "metadata": {
        "id": "bdQ0rpDZXsxp",
        "colab_type": "code",
        "colab": {
          "base_uri": "https://localhost:8080/",
          "height": 35
        },
        "outputId": "90ccfeb4-a7ba-47a4-e554-e74c3f224af1"
      },
      "source": [
        "train_X.shape"
      ],
      "execution_count": 29,
      "outputs": [
        {
          "output_type": "execute_result",
          "data": {
            "text/plain": [
              "(32000, 2000)"
            ]
          },
          "metadata": {
            "tags": []
          },
          "execution_count": 29
        }
      ]
    },
    {
      "cell_type": "code",
      "metadata": {
        "id": "xWN463PbYatE",
        "colab_type": "code",
        "colab": {
          "base_uri": "https://localhost:8080/",
          "height": 35
        },
        "outputId": "c51fc85f-e00e-4045-b91a-8e842672de96"
      },
      "source": [
        "label.shape"
      ],
      "execution_count": 30,
      "outputs": [
        {
          "output_type": "execute_result",
          "data": {
            "text/plain": [
              "(32000, 4)"
            ]
          },
          "metadata": {
            "tags": []
          },
          "execution_count": 30
        }
      ]
    },
    {
      "cell_type": "markdown",
      "metadata": {
        "id": "0Zj6YK73u_mK",
        "colab_type": "text"
      },
      "source": [
        "**Train the model**"
      ]
    },
    {
      "cell_type": "code",
      "metadata": {
        "id": "uGCQ2q6wYeWL",
        "colab_type": "code",
        "colab": {}
      },
      "source": [
        "# model = Sequential()\n",
        "# model.add(Embedding(52622, 100, input_length = train_X.shape[1]))\n",
        "# model.add(LSTM(128, return_sequences = True))\n",
        "# model.add(LSTM(64))\n",
        "# model.add(Dense(32, activation='tanh'))\n",
        "# model.add(Dense(4, activation='softmax'))\n",
        "\n",
        "# model.compile(loss='categorical_crossentropy', optimizer='adam', metrics=['accuracy'])\n",
        "\n",
        "# history = model.fit(train_X, label, epochs = 5, batch_size = 64, validation_split = 0.1, callbacks = [EarlyStopping(monitor = 'val_loss', patience = 3, min_delta = 0.0001)])\n"
      ],
      "execution_count": 83,
      "outputs": []
    },
    {
      "cell_type": "code",
      "metadata": {
        "id": "1C5M4yUwuxIy",
        "colab_type": "code",
        "colab": {}
      },
      "source": [
        "def model(hp):\n",
        "  \n",
        "    model = Sequential()\n",
        "    model.add(Embedding(52622, 100, input_length = train_X.shape[1]))\n",
        "    model.add(LSTM(units = hp.Int('lstm1_nodes', min_value=32, max_value=256, step=16), return_sequences = True))\n",
        "    model.add(LSTM(units = hp.Int('lstm1_nodes', min_value=32, max_value=128, step=16)))\n",
        "    model.add(Dense(units = hp.Int('dense', min_value=16, max_value=64, step=16), activation='tanh'))\n",
        "    model.add(Dense(4, activation='softmax'))\n",
        "\n",
        "    model.compile(loss='categorical_crossentropy', optimizer='adam', metrics=['accuracy'])\n",
        "\n",
        "    return model"
      ],
      "execution_count": 49,
      "outputs": []
    },
    {
      "cell_type": "code",
      "metadata": {
        "id": "6qyuWIVyve73",
        "colab_type": "code",
        "colab": {
          "base_uri": "https://localhost:8080/",
          "height": 1000
        },
        "outputId": "f0439275-3f3e-40b0-9fbb-3ce6ab68b67f"
      },
      "source": [
        "tuner_search = RandomSearch(model,\n",
        "                          objective='val_accuracy',\n",
        "                          max_trials=5, directory='output', project_name=\"Morningstar\")\n",
        "tuner_search.search(train_X,label, epochs=3, batch_size = 64, validation_split=0.2, callbacks = [EarlyStopping(monitor = 'val_loss', patience = 3, min_delta = 0.0001)])"
      ],
      "execution_count": 51,
      "outputs": [
        {
          "output_type": "stream",
          "text": [
            "INFO:tensorflow:Reloading Oracle from existing project output/Morningstar/oracle.json\n",
            "Epoch 1/3\n",
            "400/400 [==============================] - 325s 812ms/step - loss: 0.8265 - accuracy: 0.6617 - val_loss: 0.8644 - val_accuracy: 0.6905\n",
            "Epoch 2/3\n",
            "400/400 [==============================] - 324s 810ms/step - loss: 1.0424 - accuracy: 0.5243 - val_loss: 1.3857 - val_accuracy: 0.2566\n",
            "Epoch 3/3\n",
            "400/400 [==============================] - 324s 809ms/step - loss: 1.3033 - accuracy: 0.3424 - val_loss: 0.9542 - val_accuracy: 0.6273\n"
          ],
          "name": "stdout"
        },
        {
          "output_type": "display_data",
          "data": {
            "text/html": [
              "<span style=\"color:#4527A0\"><h1 style=\"font-size:18px\">Trial complete</h1></span>"
            ],
            "text/plain": [
              "<IPython.core.display.HTML object>"
            ]
          },
          "metadata": {
            "tags": []
          }
        },
        {
          "output_type": "display_data",
          "data": {
            "text/html": [
              "<span style=\"color:#4527A0\"><h1 style=\"font-size:18px\">Trial summary</h1></span>"
            ],
            "text/plain": [
              "<IPython.core.display.HTML object>"
            ]
          },
          "metadata": {
            "tags": []
          }
        },
        {
          "output_type": "display_data",
          "data": {
            "text/html": [
              "<span style=\"color:cyan\"> |-Trial ID: 759f8d9d2455d59cb6aa460f5045de6a</span>"
            ],
            "text/plain": [
              "<IPython.core.display.HTML object>"
            ]
          },
          "metadata": {
            "tags": []
          }
        },
        {
          "output_type": "display_data",
          "data": {
            "text/html": [
              "<span style=\"color:cyan\"> |-Score: 0.6904687285423279</span>"
            ],
            "text/plain": [
              "<IPython.core.display.HTML object>"
            ]
          },
          "metadata": {
            "tags": []
          }
        },
        {
          "output_type": "display_data",
          "data": {
            "text/html": [
              "<span style=\"color:cyan\"> |-Best step: 0</span>"
            ],
            "text/plain": [
              "<IPython.core.display.HTML object>"
            ]
          },
          "metadata": {
            "tags": []
          }
        },
        {
          "output_type": "display_data",
          "data": {
            "text/html": [
              "<span style=\"color:#7E57C2\"><h2 style=\"font-size:16px\">Hyperparameters:</h2></span>"
            ],
            "text/plain": [
              "<IPython.core.display.HTML object>"
            ]
          },
          "metadata": {
            "tags": []
          }
        },
        {
          "output_type": "display_data",
          "data": {
            "text/html": [
              "<span style=\"color:cyan\"> |-dense: 224</span>"
            ],
            "text/plain": [
              "<IPython.core.display.HTML object>"
            ]
          },
          "metadata": {
            "tags": []
          }
        },
        {
          "output_type": "display_data",
          "data": {
            "text/html": [
              "<span style=\"color:blue\"> |-lstm1_nodes: 160</span>"
            ],
            "text/plain": [
              "<IPython.core.display.HTML object>"
            ]
          },
          "metadata": {
            "tags": []
          }
        },
        {
          "output_type": "stream",
          "text": [
            "Epoch 1/3\n",
            "400/400 [==============================] - 210s 525ms/step - loss: 0.7308 - accuracy: 0.7069 - val_loss: 0.4379 - val_accuracy: 0.8664\n",
            "Epoch 2/3\n",
            "400/400 [==============================] - 210s 525ms/step - loss: 0.5049 - accuracy: 0.8308 - val_loss: 0.4404 - val_accuracy: 0.8591\n",
            "Epoch 3/3\n",
            "400/400 [==============================] - 202s 506ms/step - loss: 0.4358 - accuracy: 0.8676 - val_loss: 0.5139 - val_accuracy: 0.8361\n"
          ],
          "name": "stdout"
        },
        {
          "output_type": "display_data",
          "data": {
            "text/html": [
              "<span style=\"color:#4527A0\"><h1 style=\"font-size:18px\">Trial complete</h1></span>"
            ],
            "text/plain": [
              "<IPython.core.display.HTML object>"
            ]
          },
          "metadata": {
            "tags": []
          }
        },
        {
          "output_type": "display_data",
          "data": {
            "text/html": [
              "<span style=\"color:#4527A0\"><h1 style=\"font-size:18px\">Trial summary</h1></span>"
            ],
            "text/plain": [
              "<IPython.core.display.HTML object>"
            ]
          },
          "metadata": {
            "tags": []
          }
        },
        {
          "output_type": "display_data",
          "data": {
            "text/html": [
              "<span style=\"color:cyan\"> |-Trial ID: b5e606f406e2ff6b2361b7722502da4e</span>"
            ],
            "text/plain": [
              "<IPython.core.display.HTML object>"
            ]
          },
          "metadata": {
            "tags": []
          }
        },
        {
          "output_type": "display_data",
          "data": {
            "text/html": [
              "<span style=\"color:cyan\"> |-Score: 0.866406261920929</span>"
            ],
            "text/plain": [
              "<IPython.core.display.HTML object>"
            ]
          },
          "metadata": {
            "tags": []
          }
        },
        {
          "output_type": "display_data",
          "data": {
            "text/html": [
              "<span style=\"color:cyan\"> |-Best step: 0</span>"
            ],
            "text/plain": [
              "<IPython.core.display.HTML object>"
            ]
          },
          "metadata": {
            "tags": []
          }
        },
        {
          "output_type": "display_data",
          "data": {
            "text/html": [
              "<span style=\"color:#7E57C2\"><h2 style=\"font-size:16px\">Hyperparameters:</h2></span>"
            ],
            "text/plain": [
              "<IPython.core.display.HTML object>"
            ]
          },
          "metadata": {
            "tags": []
          }
        },
        {
          "output_type": "display_data",
          "data": {
            "text/html": [
              "<span style=\"color:cyan\"> |-dense: 192</span>"
            ],
            "text/plain": [
              "<IPython.core.display.HTML object>"
            ]
          },
          "metadata": {
            "tags": []
          }
        },
        {
          "output_type": "display_data",
          "data": {
            "text/html": [
              "<span style=\"color:blue\"> |-lstm1_nodes: 32</span>"
            ],
            "text/plain": [
              "<IPython.core.display.HTML object>"
            ]
          },
          "metadata": {
            "tags": []
          }
        },
        {
          "output_type": "stream",
          "text": [
            "Epoch 1/3\n",
            "400/400 [==============================] - 263s 658ms/step - loss: 0.9139 - accuracy: 0.6150 - val_loss: 0.7467 - val_accuracy: 0.7106\n",
            "Epoch 2/3\n",
            "400/400 [==============================] - 262s 656ms/step - loss: 0.6818 - accuracy: 0.7504 - val_loss: 0.5593 - val_accuracy: 0.8078\n",
            "Epoch 3/3\n",
            "400/400 [==============================] - 262s 655ms/step - loss: 0.6589 - accuracy: 0.7437 - val_loss: 0.8760 - val_accuracy: 0.6184\n"
          ],
          "name": "stdout"
        },
        {
          "output_type": "display_data",
          "data": {
            "text/html": [
              "<span style=\"color:#4527A0\"><h1 style=\"font-size:18px\">Trial complete</h1></span>"
            ],
            "text/plain": [
              "<IPython.core.display.HTML object>"
            ]
          },
          "metadata": {
            "tags": []
          }
        },
        {
          "output_type": "display_data",
          "data": {
            "text/html": [
              "<span style=\"color:#4527A0\"><h1 style=\"font-size:18px\">Trial summary</h1></span>"
            ],
            "text/plain": [
              "<IPython.core.display.HTML object>"
            ]
          },
          "metadata": {
            "tags": []
          }
        },
        {
          "output_type": "display_data",
          "data": {
            "text/html": [
              "<span style=\"color:cyan\"> |-Trial ID: 883d78a16929f2eac8fd7a2c0803818b</span>"
            ],
            "text/plain": [
              "<IPython.core.display.HTML object>"
            ]
          },
          "metadata": {
            "tags": []
          }
        },
        {
          "output_type": "display_data",
          "data": {
            "text/html": [
              "<span style=\"color:cyan\"> |-Score: 0.807812511920929</span>"
            ],
            "text/plain": [
              "<IPython.core.display.HTML object>"
            ]
          },
          "metadata": {
            "tags": []
          }
        },
        {
          "output_type": "display_data",
          "data": {
            "text/html": [
              "<span style=\"color:cyan\"> |-Best step: 0</span>"
            ],
            "text/plain": [
              "<IPython.core.display.HTML object>"
            ]
          },
          "metadata": {
            "tags": []
          }
        },
        {
          "output_type": "display_data",
          "data": {
            "text/html": [
              "<span style=\"color:#7E57C2\"><h2 style=\"font-size:16px\">Hyperparameters:</h2></span>"
            ],
            "text/plain": [
              "<IPython.core.display.HTML object>"
            ]
          },
          "metadata": {
            "tags": []
          }
        },
        {
          "output_type": "display_data",
          "data": {
            "text/html": [
              "<span style=\"color:cyan\"> |-dense: 144</span>"
            ],
            "text/plain": [
              "<IPython.core.display.HTML object>"
            ]
          },
          "metadata": {
            "tags": []
          }
        },
        {
          "output_type": "display_data",
          "data": {
            "text/html": [
              "<span style=\"color:blue\"> |-lstm1_nodes: 112</span>"
            ],
            "text/plain": [
              "<IPython.core.display.HTML object>"
            ]
          },
          "metadata": {
            "tags": []
          }
        },
        {
          "output_type": "stream",
          "text": [
            "Epoch 1/3\n",
            "400/400 [==============================] - 207s 518ms/step - loss: 0.7476 - accuracy: 0.7019 - val_loss: 0.5960 - val_accuracy: 0.8191\n",
            "Epoch 2/3\n",
            "400/400 [==============================] - 207s 518ms/step - loss: 0.4486 - accuracy: 0.8662 - val_loss: 0.4301 - val_accuracy: 0.8717\n",
            "Epoch 3/3\n",
            "400/400 [==============================] - 207s 517ms/step - loss: 0.3893 - accuracy: 0.8784 - val_loss: 0.4734 - val_accuracy: 0.8434\n"
          ],
          "name": "stdout"
        },
        {
          "output_type": "display_data",
          "data": {
            "text/html": [
              "<span style=\"color:#4527A0\"><h1 style=\"font-size:18px\">Trial complete</h1></span>"
            ],
            "text/plain": [
              "<IPython.core.display.HTML object>"
            ]
          },
          "metadata": {
            "tags": []
          }
        },
        {
          "output_type": "display_data",
          "data": {
            "text/html": [
              "<span style=\"color:#4527A0\"><h1 style=\"font-size:18px\">Trial summary</h1></span>"
            ],
            "text/plain": [
              "<IPython.core.display.HTML object>"
            ]
          },
          "metadata": {
            "tags": []
          }
        },
        {
          "output_type": "display_data",
          "data": {
            "text/html": [
              "<span style=\"color:cyan\"> |-Trial ID: 77ca24e2a341f30145a13eb0889435b4</span>"
            ],
            "text/plain": [
              "<IPython.core.display.HTML object>"
            ]
          },
          "metadata": {
            "tags": []
          }
        },
        {
          "output_type": "display_data",
          "data": {
            "text/html": [
              "<span style=\"color:cyan\"> |-Score: 0.8717187643051147</span>"
            ],
            "text/plain": [
              "<IPython.core.display.HTML object>"
            ]
          },
          "metadata": {
            "tags": []
          }
        },
        {
          "output_type": "display_data",
          "data": {
            "text/html": [
              "<span style=\"color:cyan\"> |-Best step: 0</span>"
            ],
            "text/plain": [
              "<IPython.core.display.HTML object>"
            ]
          },
          "metadata": {
            "tags": []
          }
        },
        {
          "output_type": "display_data",
          "data": {
            "text/html": [
              "<span style=\"color:#7E57C2\"><h2 style=\"font-size:16px\">Hyperparameters:</h2></span>"
            ],
            "text/plain": [
              "<IPython.core.display.HTML object>"
            ]
          },
          "metadata": {
            "tags": []
          }
        },
        {
          "output_type": "display_data",
          "data": {
            "text/html": [
              "<span style=\"color:cyan\"> |-dense: 96</span>"
            ],
            "text/plain": [
              "<IPython.core.display.HTML object>"
            ]
          },
          "metadata": {
            "tags": []
          }
        },
        {
          "output_type": "display_data",
          "data": {
            "text/html": [
              "<span style=\"color:blue\"> |-lstm1_nodes: 48</span>"
            ],
            "text/plain": [
              "<IPython.core.display.HTML object>"
            ]
          },
          "metadata": {
            "tags": []
          }
        },
        {
          "output_type": "stream",
          "text": [
            "Epoch 1/3\n",
            "400/400 [==============================] - 389s 973ms/step - loss: 0.8647 - accuracy: 0.6515 - val_loss: 1.5329 - val_accuracy: 0.2461\n",
            "Epoch 2/3\n",
            "400/400 [==============================] - 388s 971ms/step - loss: 0.9167 - accuracy: 0.6059 - val_loss: 0.8761 - val_accuracy: 0.6636\n",
            "Epoch 3/3\n",
            "400/400 [==============================] - 389s 972ms/step - loss: 0.8438 - accuracy: 0.6523 - val_loss: 0.6623 - val_accuracy: 0.7483\n"
          ],
          "name": "stdout"
        },
        {
          "output_type": "display_data",
          "data": {
            "text/html": [
              "<span style=\"color:#4527A0\"><h1 style=\"font-size:18px\">Trial complete</h1></span>"
            ],
            "text/plain": [
              "<IPython.core.display.HTML object>"
            ]
          },
          "metadata": {
            "tags": []
          }
        },
        {
          "output_type": "display_data",
          "data": {
            "text/html": [
              "<span style=\"color:#4527A0\"><h1 style=\"font-size:18px\">Trial summary</h1></span>"
            ],
            "text/plain": [
              "<IPython.core.display.HTML object>"
            ]
          },
          "metadata": {
            "tags": []
          }
        },
        {
          "output_type": "display_data",
          "data": {
            "text/html": [
              "<span style=\"color:cyan\"> |-Trial ID: 259a27f5e1eed3bf4f64b07407dc01d2</span>"
            ],
            "text/plain": [
              "<IPython.core.display.HTML object>"
            ]
          },
          "metadata": {
            "tags": []
          }
        },
        {
          "output_type": "display_data",
          "data": {
            "text/html": [
              "<span style=\"color:cyan\"> |-Score: 0.7482812404632568</span>"
            ],
            "text/plain": [
              "<IPython.core.display.HTML object>"
            ]
          },
          "metadata": {
            "tags": []
          }
        },
        {
          "output_type": "display_data",
          "data": {
            "text/html": [
              "<span style=\"color:cyan\"> |-Best step: 0</span>"
            ],
            "text/plain": [
              "<IPython.core.display.HTML object>"
            ]
          },
          "metadata": {
            "tags": []
          }
        },
        {
          "output_type": "display_data",
          "data": {
            "text/html": [
              "<span style=\"color:#7E57C2\"><h2 style=\"font-size:16px\">Hyperparameters:</h2></span>"
            ],
            "text/plain": [
              "<IPython.core.display.HTML object>"
            ]
          },
          "metadata": {
            "tags": []
          }
        },
        {
          "output_type": "display_data",
          "data": {
            "text/html": [
              "<span style=\"color:cyan\"> |-dense: 224</span>"
            ],
            "text/plain": [
              "<IPython.core.display.HTML object>"
            ]
          },
          "metadata": {
            "tags": []
          }
        },
        {
          "output_type": "display_data",
          "data": {
            "text/html": [
              "<span style=\"color:blue\"> |-lstm1_nodes: 208</span>"
            ],
            "text/plain": [
              "<IPython.core.display.HTML object>"
            ]
          },
          "metadata": {
            "tags": []
          }
        },
        {
          "output_type": "stream",
          "text": [
            "INFO:tensorflow:Oracle triggered exit\n"
          ],
          "name": "stdout"
        }
      ]
    },
    {
      "cell_type": "code",
      "metadata": {
        "id": "VIFHCNHV3LVq",
        "colab_type": "code",
        "colab": {}
      },
      "source": [
        "model=tuner_search.get_best_models(num_models = 1)[0]"
      ],
      "execution_count": 52,
      "outputs": []
    },
    {
      "cell_type": "code",
      "metadata": {
        "id": "TxNM4dVUuejX",
        "colab_type": "code",
        "colab": {
          "base_uri": "https://localhost:8080/",
          "height": 159
        },
        "outputId": "f535b153-3b60-46c9-ed2b-ef733ca680a1"
      },
      "source": [
        "model.fit(train_X, label, epochs = 3, validation_split = 0.1)"
      ],
      "execution_count": 55,
      "outputs": [
        {
          "output_type": "stream",
          "text": [
            "Epoch 1/3\n",
            "900/900 [==============================] - 419s 466ms/step - loss: 0.5464 - accuracy: 0.8165 - val_loss: 0.4828 - val_accuracy: 0.8572\n",
            "Epoch 2/3\n",
            "900/900 [==============================] - 417s 464ms/step - loss: 0.5664 - accuracy: 0.8032 - val_loss: 0.4615 - val_accuracy: 0.8553\n",
            "Epoch 3/3\n",
            "900/900 [==============================] - 416s 462ms/step - loss: 0.4849 - accuracy: 0.8392 - val_loss: 0.4628 - val_accuracy: 0.8597\n"
          ],
          "name": "stdout"
        },
        {
          "output_type": "execute_result",
          "data": {
            "text/plain": [
              "<tensorflow.python.keras.callbacks.History at 0x7f90a8274e10>"
            ]
          },
          "metadata": {
            "tags": []
          },
          "execution_count": 55
        }
      ]
    },
    {
      "cell_type": "markdown",
      "metadata": {
        "id": "Mj6wgyc0nuq_",
        "colab_type": "text"
      },
      "source": [
        "**Model details**"
      ]
    },
    {
      "cell_type": "code",
      "metadata": {
        "id": "hckAMh4fC-mv",
        "colab_type": "code",
        "colab": {
          "base_uri": "https://localhost:8080/",
          "height": 35
        },
        "outputId": "43a66615-6bfd-4d5e-eacc-f9ed98a7a3a0"
      },
      "source": [
        "e = model.evaluate(train_X, label, batch_size=64)"
      ],
      "execution_count": 56,
      "outputs": [
        {
          "output_type": "stream",
          "text": [
            "500/500 [==============================] - 100s 200ms/step - loss: 0.3820 - accuracy: 0.8888\n"
          ],
          "name": "stdout"
        }
      ]
    },
    {
      "cell_type": "code",
      "metadata": {
        "id": "M4R5xInEewGl",
        "colab_type": "code",
        "colab": {
          "base_uri": "https://localhost:8080/",
          "height": 329
        },
        "outputId": "87d45772-d422-4cb5-d0fd-79c33f5b5b6e"
      },
      "source": [
        "model.summary()"
      ],
      "execution_count": 57,
      "outputs": [
        {
          "output_type": "stream",
          "text": [
            "Model: \"sequential\"\n",
            "_________________________________________________________________\n",
            "Layer (type)                 Output Shape              Param #   \n",
            "=================================================================\n",
            "embedding (Embedding)        (None, 2000, 100)         5262200   \n",
            "_________________________________________________________________\n",
            "lstm (LSTM)                  (None, 2000, 48)          28608     \n",
            "_________________________________________________________________\n",
            "lstm_1 (LSTM)                (None, 48)                18624     \n",
            "_________________________________________________________________\n",
            "dense (Dense)                (None, 96)                4704      \n",
            "_________________________________________________________________\n",
            "dense_1 (Dense)              (None, 4)                 388       \n",
            "=================================================================\n",
            "Total params: 5,314,524\n",
            "Trainable params: 5,314,524\n",
            "Non-trainable params: 0\n",
            "_________________________________________________________________\n"
          ],
          "name": "stdout"
        }
      ]
    },
    {
      "cell_type": "code",
      "metadata": {
        "id": "DJGUs_z-gNUF",
        "colab_type": "code",
        "colab": {}
      },
      "source": [
        "model.save(\"MorningstarModel.h5\")"
      ],
      "execution_count": 98,
      "outputs": []
    },
    {
      "cell_type": "code",
      "metadata": {
        "id": "jAVsqBjioLL3",
        "colab_type": "code",
        "colab": {}
      },
      "source": [
        "sample = model.predict(train_X[:5])"
      ],
      "execution_count": 59,
      "outputs": []
    },
    {
      "cell_type": "code",
      "metadata": {
        "id": "3FBmB3O2oQKv",
        "colab_type": "code",
        "colab": {
          "base_uri": "https://localhost:8080/",
          "height": 104
        },
        "outputId": "77c4dd7e-9176-4ff3-ff0c-8f41ef7eb685"
      },
      "source": [
        "sample"
      ],
      "execution_count": 60,
      "outputs": [
        {
          "output_type": "execute_result",
          "data": {
            "text/plain": [
              "array([[0.0562587 , 0.9061795 , 0.02193261, 0.01562918],\n",
              "       [0.02866109, 0.10714222, 0.03529239, 0.82890433],\n",
              "       [0.04402265, 0.9258562 , 0.01382744, 0.01629372],\n",
              "       [0.90356433, 0.00885212, 0.02515249, 0.06243108],\n",
              "       [0.89477557, 0.01069415, 0.02358393, 0.07094631]], dtype=float32)"
            ]
          },
          "metadata": {
            "tags": []
          },
          "execution_count": 60
        }
      ]
    },
    {
      "cell_type": "code",
      "metadata": {
        "id": "RXkY0MuWoR6K",
        "colab_type": "code",
        "colab": {
          "base_uri": "https://localhost:8080/",
          "height": 104
        },
        "outputId": "dae791bb-0c07-44cc-e782-a5f7fafef088"
      },
      "source": [
        "label[:5]"
      ],
      "execution_count": 61,
      "outputs": [
        {
          "output_type": "execute_result",
          "data": {
            "text/plain": [
              "array([[0, 1, 0, 0],\n",
              "       [0, 0, 0, 1],\n",
              "       [0, 1, 0, 0],\n",
              "       [1, 0, 0, 0],\n",
              "       [1, 0, 0, 0]], dtype=uint8)"
            ]
          },
          "metadata": {
            "tags": []
          },
          "execution_count": 61
        }
      ]
    },
    {
      "cell_type": "code",
      "metadata": {
        "id": "YnqWNbFl4eQ6",
        "colab_type": "code",
        "colab": {
          "base_uri": "https://localhost:8080/",
          "height": 104
        },
        "outputId": "7b2ad178-5488-43c3-f8d4-e048b14a2b76"
      },
      "source": [
        "for i in sample:\n",
        "  value = np.argmax(i)+1\n",
        "  if value == 1:\n",
        "    print(\"A\")\n",
        "  elif value == 2:\n",
        "    print(\"B\")\n",
        "  elif value == 3:\n",
        "    print(\"C\")\n",
        "  else:\n",
        "    print(\"D\")"
      ],
      "execution_count": 62,
      "outputs": [
        {
          "output_type": "stream",
          "text": [
            "B\n",
            "D\n",
            "B\n",
            "A\n",
            "A\n"
          ],
          "name": "stdout"
        }
      ]
    },
    {
      "cell_type": "markdown",
      "metadata": {
        "id": "GGO85j8f5Tlv",
        "colab_type": "text"
      },
      "source": [
        "**Get test data**"
      ]
    },
    {
      "cell_type": "code",
      "metadata": {
        "id": "JhnCp4375V1w",
        "colab_type": "code",
        "colab": {}
      },
      "source": [
        "test_passages = []\n",
        "test_labels = []\n",
        "\n",
        "for i in range(8000,10000,1):\n",
        "    test_passages.append(A[i])\n",
        "    test_labels.append('A')\n",
        "\n",
        "for i in range(8000,10000,1):\n",
        "    test_passages.append(B[i])\n",
        "    test_labels.append('B')\n",
        "\n",
        "for i in range(8000,10000,1):\n",
        "    test_passages.append(C[i])\n",
        "    test_labels.append('C')\n",
        "\n",
        "for i in range(8000,10000,1):\n",
        "    test_passages.append(D[i])\n",
        "    test_labels.append('D')"
      ],
      "execution_count": 63,
      "outputs": []
    },
    {
      "cell_type": "code",
      "metadata": {
        "id": "L5buMHnE5b6_",
        "colab_type": "code",
        "colab": {}
      },
      "source": [
        "df = pd.DataFrame(list(zip(test_passages, test_labels)), columns =[\"Text\",'Class']) \n",
        "df = df.sample(frac = 1)\n",
        "\n",
        "df.to_csv(\"test.csv\")"
      ],
      "execution_count": 64,
      "outputs": []
    },
    {
      "cell_type": "code",
      "metadata": {
        "id": "oAXdBmcz5e7M",
        "colab_type": "code",
        "colab": {}
      },
      "source": [
        "dfTest = pd.read_csv('/content/test.csv')"
      ],
      "execution_count": 65,
      "outputs": []
    },
    {
      "cell_type": "code",
      "metadata": {
        "id": "HD4_5hx_5h_H",
        "colab_type": "code",
        "colab": {
          "base_uri": "https://localhost:8080/",
          "height": 415
        },
        "outputId": "3d42dd53-8185-4552-c03a-a70548f9f546"
      },
      "source": [
        "dfTest"
      ],
      "execution_count": 66,
      "outputs": [
        {
          "output_type": "execute_result",
          "data": {
            "text/html": [
              "<div>\n",
              "<style scoped>\n",
              "    .dataframe tbody tr th:only-of-type {\n",
              "        vertical-align: middle;\n",
              "    }\n",
              "\n",
              "    .dataframe tbody tr th {\n",
              "        vertical-align: top;\n",
              "    }\n",
              "\n",
              "    .dataframe thead th {\n",
              "        text-align: right;\n",
              "    }\n",
              "</style>\n",
              "<table border=\"1\" class=\"dataframe\">\n",
              "  <thead>\n",
              "    <tr style=\"text-align: right;\">\n",
              "      <th></th>\n",
              "      <th>Unnamed: 0</th>\n",
              "      <th>Text</th>\n",
              "      <th>Class</th>\n",
              "    </tr>\n",
              "  </thead>\n",
              "  <tbody>\n",
              "    <tr>\n",
              "      <th>0</th>\n",
              "      <td>2007</td>\n",
              "      <td>As of XXXX XXXX, 2016 XXXX XXXX sold the servi...</td>\n",
              "      <td>B</td>\n",
              "    </tr>\n",
              "    <tr>\n",
              "      <th>1</th>\n",
              "      <td>3073</td>\n",
              "      <td>My husband and I are wanting to purchase a mob...</td>\n",
              "      <td>B</td>\n",
              "    </tr>\n",
              "    <tr>\n",
              "      <th>2</th>\n",
              "      <td>5297</td>\n",
              "      <td>I sent a letter XX/XX/2015 questioning my cred...</td>\n",
              "      <td>C</td>\n",
              "    </tr>\n",
              "    <tr>\n",
              "      <th>3</th>\n",
              "      <td>366</td>\n",
              "      <td>They call 4-5 times a day everyday for a payme...</td>\n",
              "      <td>A</td>\n",
              "    </tr>\n",
              "    <tr>\n",
              "      <th>4</th>\n",
              "      <td>1848</td>\n",
              "      <td>I received a credit report from XXXX. In said ...</td>\n",
              "      <td>A</td>\n",
              "    </tr>\n",
              "    <tr>\n",
              "      <th>...</th>\n",
              "      <td>...</td>\n",
              "      <td>...</td>\n",
              "      <td>...</td>\n",
              "    </tr>\n",
              "    <tr>\n",
              "      <th>7995</th>\n",
              "      <td>238</td>\n",
              "      <td>This balance of {$180.00} was supposed to have...</td>\n",
              "      <td>A</td>\n",
              "    </tr>\n",
              "    <tr>\n",
              "      <th>7996</th>\n",
              "      <td>5746</td>\n",
              "      <td>Equifax has me living at XXXX different XXXX, ...</td>\n",
              "      <td>C</td>\n",
              "    </tr>\n",
              "    <tr>\n",
              "      <th>7997</th>\n",
              "      <td>2472</td>\n",
              "      <td>File a mortgage complaintWe made an attempt to...</td>\n",
              "      <td>B</td>\n",
              "    </tr>\n",
              "    <tr>\n",
              "      <th>7998</th>\n",
              "      <td>3144</td>\n",
              "      <td>Today I received notification from my credit r...</td>\n",
              "      <td>B</td>\n",
              "    </tr>\n",
              "    <tr>\n",
              "      <th>7999</th>\n",
              "      <td>7539</td>\n",
              "      <td>My roommate received a pre-approved notice fro...</td>\n",
              "      <td>D</td>\n",
              "    </tr>\n",
              "  </tbody>\n",
              "</table>\n",
              "<p>8000 rows × 3 columns</p>\n",
              "</div>"
            ],
            "text/plain": [
              "      Unnamed: 0                                               Text Class\n",
              "0           2007  As of XXXX XXXX, 2016 XXXX XXXX sold the servi...     B\n",
              "1           3073  My husband and I are wanting to purchase a mob...     B\n",
              "2           5297  I sent a letter XX/XX/2015 questioning my cred...     C\n",
              "3            366  They call 4-5 times a day everyday for a payme...     A\n",
              "4           1848  I received a credit report from XXXX. In said ...     A\n",
              "...          ...                                                ...   ...\n",
              "7995         238  This balance of {$180.00} was supposed to have...     A\n",
              "7996        5746  Equifax has me living at XXXX different XXXX, ...     C\n",
              "7997        2472  File a mortgage complaintWe made an attempt to...     B\n",
              "7998        3144  Today I received notification from my credit r...     B\n",
              "7999        7539  My roommate received a pre-approved notice fro...     D\n",
              "\n",
              "[8000 rows x 3 columns]"
            ]
          },
          "metadata": {
            "tags": []
          },
          "execution_count": 66
        }
      ]
    },
    {
      "cell_type": "markdown",
      "metadata": {
        "id": "outg9QUQ6fDx",
        "colab_type": "text"
      },
      "source": [
        "**Clean the data**"
      ]
    },
    {
      "cell_type": "code",
      "metadata": {
        "id": "gJI_iC8W5isD",
        "colab_type": "code",
        "colab": {
          "base_uri": "https://localhost:8080/",
          "height": 35
        },
        "outputId": "d4bc46b0-c0be-4ffc-c8ae-47dbcf29864c"
      },
      "source": [
        "passages = dfTest['Text'].values\n",
        "clean_passage=[]\n",
        "for passage in passages:\n",
        "  clean_passage.append(clean_text(passage))\n",
        "print(len(clean_passage))"
      ],
      "execution_count": 67,
      "outputs": [
        {
          "output_type": "stream",
          "text": [
            "8000\n"
          ],
          "name": "stdout"
        }
      ]
    },
    {
      "cell_type": "code",
      "metadata": {
        "id": "2F6OBVCbUYct",
        "colab_type": "code",
        "colab": {
          "base_uri": "https://localhost:8080/",
          "height": 124
        },
        "outputId": "509faecb-9e78-4d4d-9378-06ea5f1e8d27"
      },
      "source": [
        "clean_passage[:5]"
      ],
      "execution_count": 68,
      "outputs": [
        {
          "output_type": "execute_result",
          "data": {
            "text/plain": [
              "['As of   2016   sold the servicing rights to my mortgage to a company called  at          Co  I have made numerous phone calls requesting monthly mortgage statement and as of today   2016 I have not received statements for   or  payments already paid This is not acceptable I want monthly statements reflecting all required infomation ie balance date payment received allocation to interestprinciple escrow balance etc The last phone call I made to the company a customer service person said they are having trouble with a new  Vendor  I still have no statements Please help',\n",
              " 'My husband and I are wanting to purchase a mobile home and after trying to fill out the inhouse lender through the mobile home park it prompt me to this page  unfortunately we do not have a lender that match your needs etc  then I picked the Quicken loan  see weblink  Then I had applied through Quicken Loan and wrote both my SSN and my spouse To my surprised it gave me an error and never received a result An agent phoned me right away and explained that Quicken Loan never process any mobile home loans and tried to convince me to get a single family home loan I said NO and they should have never advertised from the mobile home site to begin with I am a  in the state of  but currently working as an apartment locator You can say I am very naive about the mobile home buying but this company put a hard inquiry on my  credit bureau effective today  This is an unfair practice and obviously I was a victim of a  bait n switch  type of advertisement Please help me remove this hard inquiry off my credit because we are trying our best to buy our cheap permanent home This hard inquiry will definitely affect any future purchase Here is the Quicken Loan informationEMS QUICKENMisc Creditor Contact DetailsQUICKENLOANSEMSQUICKEN       See something wrong Find out how to dispute a hard inquiry',\n",
              " 'I sent a letter 2015 questioning my credit report and some of the accounts reporting They sent me a letter basically calling me a liar and saying my letter was suspicious which make no sense as I followed the directions on their web site and included copies of my military ID drivers license social security number',\n",
              " 'They call 45 times a day everyday for a payment that is not even 30 days late and continue to call even after the payment is in process online They are very insitant that you make the payment while on the phone with them immediately and continue to call even if you give them a date you can make the payment again not even 30 days late',\n",
              " 'I received a credit report from  In said report were reports from Navient I attempted to dispute the reportalleged account with Navient based on the mailing address being reported I mailed the dispute via certified mail and was delivered  The delivery address was not the address listed in the credit report The credit report reflects incorrect reporting information Furthermore I have not received information confirming the alleged account']"
            ]
          },
          "metadata": {
            "tags": []
          },
          "execution_count": 68
        }
      ]
    },
    {
      "cell_type": "markdown",
      "metadata": {
        "id": "U-KEjHHP6NQN",
        "colab_type": "text"
      },
      "source": [
        "**Labelize the data**"
      ]
    },
    {
      "cell_type": "code",
      "metadata": {
        "id": "Bcl_fLjo5wsa",
        "colab_type": "code",
        "colab": {}
      },
      "source": [
        "label = pd.get_dummies(dfTest[\"Class\"],).values\n",
        "#trainY = to_categorical(label)"
      ],
      "execution_count": 69,
      "outputs": []
    },
    {
      "cell_type": "markdown",
      "metadata": {
        "id": "vjV9mJ4G6kHI",
        "colab_type": "text"
      },
      "source": [
        "**Tokenizer**"
      ]
    },
    {
      "cell_type": "code",
      "metadata": {
        "id": "ONGMwaxQ6QFP",
        "colab_type": "code",
        "colab": {}
      },
      "source": [
        "test_Y = tokenizer.texts_to_sequences(clean_passage)"
      ],
      "execution_count": 70,
      "outputs": []
    },
    {
      "cell_type": "markdown",
      "metadata": {
        "id": "PxMFGqhT6lzG",
        "colab_type": "text"
      },
      "source": [
        "**Pad sequence**"
      ]
    },
    {
      "cell_type": "code",
      "metadata": {
        "id": "V5UP4ker6YVi",
        "colab_type": "code",
        "colab": {}
      },
      "source": [
        "test_Y = pad_sequences(test_Y, maxlen = 2000)"
      ],
      "execution_count": 71,
      "outputs": []
    },
    {
      "cell_type": "code",
      "metadata": {
        "id": "LydKhrax6mrb",
        "colab_type": "code",
        "colab": {}
      },
      "source": [
        "model = load_model(\"/content/MorningstarModel.h5\") "
      ],
      "execution_count": 99,
      "outputs": []
    },
    {
      "cell_type": "markdown",
      "metadata": {
        "id": "sXLMRJxu61lU",
        "colab_type": "text"
      },
      "source": [
        "**Metrics**"
      ]
    },
    {
      "cell_type": "code",
      "metadata": {
        "id": "n_zburGV62Y2",
        "colab_type": "code",
        "colab": {}
      },
      "source": [
        "prediction = model.predict(test_Y)"
      ],
      "execution_count": 100,
      "outputs": []
    },
    {
      "cell_type": "code",
      "metadata": {
        "id": "1k8B0SqT64cr",
        "colab_type": "code",
        "colab": {}
      },
      "source": [
        "x = []\n",
        "for i in label:\n",
        "  x.append(np.argmax(i)) "
      ],
      "execution_count": 101,
      "outputs": []
    },
    {
      "cell_type": "code",
      "metadata": {
        "id": "HsdBHHIA8AqN",
        "colab_type": "code",
        "colab": {}
      },
      "source": [
        "y = []\n",
        "for i in prediction:\n",
        "  y.append(np.argmax(i)) "
      ],
      "execution_count": 102,
      "outputs": []
    },
    {
      "cell_type": "code",
      "metadata": {
        "id": "1E1BFrSzYg4-",
        "colab_type": "code",
        "colab": {
          "base_uri": "https://localhost:8080/",
          "height": 35
        },
        "outputId": "c2d91208-fb0f-46fb-9e74-c60f01eb791b"
      },
      "source": [
        "x[:5]"
      ],
      "execution_count": 103,
      "outputs": [
        {
          "output_type": "execute_result",
          "data": {
            "text/plain": [
              "[1, 1, 2, 0, 0]"
            ]
          },
          "metadata": {
            "tags": []
          },
          "execution_count": 103
        }
      ]
    },
    {
      "cell_type": "code",
      "metadata": {
        "id": "cRWB_sMfYGHU",
        "colab_type": "code",
        "colab": {
          "base_uri": "https://localhost:8080/",
          "height": 35
        },
        "outputId": "f1e5e2d1-a45f-44e8-f39e-fa6f4f8de1ef"
      },
      "source": [
        "y[:5]"
      ],
      "execution_count": 104,
      "outputs": [
        {
          "output_type": "execute_result",
          "data": {
            "text/plain": [
              "[1, 1, 2, 0, 2]"
            ]
          },
          "metadata": {
            "tags": []
          },
          "execution_count": 104
        }
      ]
    },
    {
      "cell_type": "code",
      "metadata": {
        "id": "lw0ioNXH8EFl",
        "colab_type": "code",
        "colab": {}
      },
      "source": [
        "cm = confusion_matrix(x, y)"
      ],
      "execution_count": 105,
      "outputs": []
    },
    {
      "cell_type": "code",
      "metadata": {
        "id": "e-_SJ5Kp8G6j",
        "colab_type": "code",
        "colab": {
          "base_uri": "https://localhost:8080/",
          "height": 87
        },
        "outputId": "ee72615e-af6a-421c-b53f-787dd25cc672"
      },
      "source": [
        "cm"
      ],
      "execution_count": 106,
      "outputs": [
        {
          "output_type": "execute_result",
          "data": {
            "text/plain": [
              "array([[1735,   81,  119,   65],\n",
              "       [  87, 1852,   32,   29],\n",
              "       [ 227,   41, 1671,   61],\n",
              "       [ 214,  149,  136, 1501]])"
            ]
          },
          "metadata": {
            "tags": []
          },
          "execution_count": 106
        }
      ]
    },
    {
      "cell_type": "code",
      "metadata": {
        "id": "LRwyA7XU8HQi",
        "colab_type": "code",
        "colab": {
          "base_uri": "https://localhost:8080/",
          "height": 35
        },
        "outputId": "3bdd72ac-1a93-4183-d057-0eef7e3dda00"
      },
      "source": [
        "print(accuracy_score(x,y))"
      ],
      "execution_count": 107,
      "outputs": [
        {
          "output_type": "stream",
          "text": [
            "0.844875\n"
          ],
          "name": "stdout"
        }
      ]
    },
    {
      "cell_type": "code",
      "metadata": {
        "id": "atgJ5iis8S25",
        "colab_type": "code",
        "colab": {}
      },
      "source": [
        "names = ['A', 'B', 'C', 'D']"
      ],
      "execution_count": 108,
      "outputs": []
    },
    {
      "cell_type": "code",
      "metadata": {
        "id": "IY8IsCLs9NO_",
        "colab_type": "code",
        "colab": {
          "base_uri": "https://localhost:8080/",
          "height": 208
        },
        "outputId": "fedf6274-5ee9-4121-e9dd-47800b609761"
      },
      "source": [
        "print(classification_report(x, y, target_names = names))"
      ],
      "execution_count": 109,
      "outputs": [
        {
          "output_type": "stream",
          "text": [
            "              precision    recall  f1-score   support\n",
            "\n",
            "           A       0.77      0.87      0.81      2000\n",
            "           B       0.87      0.93      0.90      2000\n",
            "           C       0.85      0.84      0.84      2000\n",
            "           D       0.91      0.75      0.82      2000\n",
            "\n",
            "    accuracy                           0.84      8000\n",
            "   macro avg       0.85      0.84      0.84      8000\n",
            "weighted avg       0.85      0.84      0.84      8000\n",
            "\n"
          ],
          "name": "stdout"
        }
      ]
    },
    {
      "cell_type": "code",
      "metadata": {
        "id": "4h-kSi0BMw59",
        "colab_type": "code",
        "colab": {}
      },
      "source": [
        ""
      ],
      "execution_count": null,
      "outputs": []
    }
  ]
}
